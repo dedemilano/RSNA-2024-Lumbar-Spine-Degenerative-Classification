{
 "cells": [
  {
   "cell_type": "markdown",
   "metadata": {
    "vscode": {
     "languageId": "plaintext"
    }
   },
   "source": [
    "##### Charger les poids du modèle\n",
    "##### model.load_state_dict(torch.load('/kaggle/working/model_weights_Resnet50.pth'))"
   ]
  },
  {
   "cell_type": "code",
   "execution_count": null,
   "metadata": {},
   "outputs": [],
   "source": [
    "custum_test_loader = DataLoader(custum_test_dataset, batch_size=32, shuffle=False, num_workers=4)\n",
    "# Phase de test\n",
    "model.eval()\n",
    "y_pred=[]\n",
    "y_true=[]\n",
    "val_loss_items = []\n",
    "correct_val = 0\n",
    "total_val = 0\n",
    "val_tqdm = tqdm(custum_test_loader, desc='test', leave=False)\n",
    "with torch.no_grad():\n",
    "    for images, labels,name in val_tqdm:\n",
    "#         images = images.to(device)  # Envoyer les images au GPU\n",
    "#         labels = labels.to(device)  # Envoyer les étiquettes au GPU\n",
    "        images, labels = images.cuda(), labels.cuda()\n",
    "\n",
    "        outputs = model(images)\n",
    "        loss = criterion(outputs, labels)\n",
    "        val_loss_items.append(loss.item())\n",
    "        _, predicted = torch.max(outputs.data, 1)\n",
    "        total_val += labels.size(0)\n",
    "        correct_val += (predicted == labels).sum().item()\n",
    "        current_val_accuracy = 100 * correct_val / total_val\n",
    "        y_pred.extend(predicted.cpu().numpy())\n",
    "        y_true.extend(labels.cpu().numpy())\n",
    "\n",
    "        val_tqdm.set_postfix(loss=loss.item(), accuracy=f'{current_val_accuracy:.2f}%')\n",
    "\n",
    "avg_val_loss = sum(val_loss_items) / len(val_loss_items)\n",
    "print(f'Test Loss: {avg_val_loss}, Test Accuracy: {current_val_accuracy:.2f}%')"
   ]
  },
  {
   "cell_type": "code",
   "execution_count": null,
   "metadata": {},
   "outputs": [],
   "source": [
    "from sklearn.metrics import confusion_matrix\n",
    "conf_matrix = confusion_matrix(y_true, y_pred)\n",
    "print(conf_matrix)"
   ]
  },
  {
   "cell_type": "code",
   "execution_count": null,
   "metadata": {},
   "outputs": [],
   "source": [
    "import matplotlib.pyplot as plt\n",
    "import seaborn as sns\n",
    "\n",
    "plt.figure(figsize=(10, 7))\n",
    "sns.heatmap(conf_matrix, annot=True, fmt=\"d\", cmap=\"Blues\")\n",
    "plt.xlabel('Prédictions')\n",
    "plt.ylabel('Vraies étiquettes')\n",
    "plt.title('Matrice de Confusion')\n",
    "plt.show()"
   ]
  },
  {
   "cell_type": "code",
   "execution_count": null,
   "metadata": {},
   "outputs": [],
   "source": [
    "class TestDataset(Dataset):\n",
    "    def __init__(self, root_dir, transform=None):\n",
    "        self.files = []\n",
    "        self.names = []\n",
    "        self.failed_count=0\n",
    "        study_tqdm = tqdm(os.listdir(test_path), desc=f'Creation du dataset...', leave=True)\n",
    "        for study_id in study_tqdm:\n",
    "            study_folder_path = os.path.join(test_path, study_id)\n",
    "            \n",
    "            if os.path.isdir(study_folder_path):\n",
    "                # Parcourir chaque dossier de série dans le dossier study_id\n",
    "                for series_id in os.listdir(study_folder_path):\n",
    "                    series_folder_path = os.path.join(study_folder_path, series_id)\n",
    "                    \n",
    "                    if os.path.isdir(series_folder_path):\n",
    "                        # Compter le nombre de fichiers .dcm dans chaque dossier de série\n",
    "                        for f in os.listdir(series_folder_path):\n",
    "                            if f.endswith('.dcm'):\n",
    "                                filter_df_label=df_label[(df_label[\"study_id\"]==int(study_id)) & (df_label[\"series_id\"]==int(series_id)) & (df_label[\"instance_number\"]==int(f.replace(\".dcm\",\"\")))]\n",
    "                                for index, row in filter_df_label.iterrows():\n",
    "                                    file_name=row['condition'].replace(\" \",\"_\")+\"_\"+row['level'].replace(\"/\",\"_\")\n",
    "                                    file_name=file_name.lower()\n",
    "                                    self.names.append(study_id+\"_\"+file_name)\n",
    "                                    self.files.append(os.path.join(series_folder_path, f)) \n",
    "\n",
    "        self.transform = transform\n",
    "\n",
    "        if len(self.files) == 0:\n",
    "            raise ValueError(\"No image (dcm) files found in the specified directory.\")\n",
    "#\n",
    "    def __len__(self):\n",
    "        return len(self.files)\n",
    "\n",
    "    def __getitem__(self, idx):\n",
    "        file_path = self.files[idx]\n",
    "        dicom_data = pydicom.dcmread(dcm_file_path)\n",
    "\n",
    "        image = dicom_data.pixel_array\n",
    "        image = image.astype(np.float32)\n",
    "        \n",
    "        if self.transform:\n",
    "            image = self.transform(image)\n",
    "        \n",
    "        name=self.names[idx]\n",
    "        return image,name\n"
   ]
  },
  {
   "cell_type": "code",
   "execution_count": null,
   "metadata": {},
   "outputs": [],
   "source": [
    "# Nous allons tester la classe TestDataset\n",
    "test_dataset = TestDataset(test_path, transform=test_transform) # ici je transforme les images en Tensor pour une utilisation rapide de PyTorch Dataloader\n",
    "\n",
    "# on aura besoin d'un dataloader qui enveloppe notre objet test_dataset\n",
    "test_loader = DataLoader(test_dataset, batch_size=100, shuffle=False, num_workers=4) # souvent le shuffle est mis a False, mais avec notre implementation, ca marche dans tous les cas"
   ]
  },
  {
   "cell_type": "code",
   "execution_count": null,
   "metadata": {},
   "outputs": [],
   "source": [
    "# generons une prediction aleatoire pour notre test\n",
    "model.to(device)\n",
    "model.eval()\n",
    "normal = []\n",
    "modere = []\n",
    "severe = []\n",
    "image_names = []\n",
    "\n",
    "for batch,im_names in test_loader:\n",
    "    images=batch.to(device)\n",
    "    with torch.no_grad():\n",
    "        outputs = model(images)\n",
    "        outputs = torch.softmax(outputs,1)\n",
    "        print(outputs)\n",
    "        #_, predicted = torch.max(outputs, 1)\n",
    "        normal.extend(outputs[0])\n",
    "        modere.extend(outputs[1])\n",
    "        severe.extend(outputs[2])\n",
    "\n",
    "    # retenir les noms des images\n",
    "    image_names.extend(im_names)\n",
    "\n",
    "assert len(modere) == len(image_names)\n",
    "assert len(modere) == len(test_dataset) # est-ce qu'on a prédits tous les exemples de tests ?\n",
    "print(f'Il y a {len(label_predictions)} exemples de test')"
   ]
  },
  {
   "cell_type": "code",
   "execution_count": null,
   "metadata": {},
   "outputs": [],
   "source": [
    "# Utilisons Pandas afin de generer un DataFrame\n",
    "\n",
    "predictions_df = pd.DataFrame(data=zip(image_names, label_predictions), columns=['row_id', 'class_label'])\n",
    "predictions_df"
   ]
  }
 ],
 "metadata": {
  "kernelspec": {
   "display_name": "Python 3",
   "language": "python",
   "name": "python3"
  },
  "language_info": {
   "name": "python",
   "version": "3.10.11"
  }
 },
 "nbformat": 4,
 "nbformat_minor": 2
}
